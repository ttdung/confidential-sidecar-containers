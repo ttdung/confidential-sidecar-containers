{
 "cells": [
  {
   "cell_type": "markdown",
   "metadata": {},
   "source": [
    "# Calculate treeSHAP on Confidential containers on ACI Demo"
   ]
  },
  {
   "attachments": {},
   "cell_type": "markdown",
   "metadata": {},
   "source": [
    "### Step 1 : Setup \n",
    "\n",
    "In this step we will \n",
    "- Setup the necessary libraries and customizable variables \n",
    "- Request the public key from attestation well known endpoint and create jwks object that will be used to verify the attestation tokens later in the demo. "
   ]
  },
  {
   "cell_type": "code",
   "execution_count": 10,
   "metadata": {},
   "outputs": [
    {
     "name": "stdout",
     "output_type": "stream",
     "text": [
      "JWKS object created successfully.\n"
     ]
    }
   ],
   "source": [
    "\n",
    "import subprocess\n",
    "import json\n",
    "import base64\n",
    "import requests\n",
    "import jwt\n",
    "import json\n",
    "from cryptography.hazmat.backends import default_backend\n",
    "from cryptography.hazmat.primitives import serialization\n",
    "from cryptography.hazmat.primitives.asymmetric import rsa\n",
    "from cryptography import x509\n",
    "from hashlib import sha256\n",
    "\n",
    "# TODO: update to reflect your setup\n",
    "registry_name = 'ttdungacr.azurecr.io' # e.g. docker.io/pawankhandavillims\n",
    "attestation_endpoint = 'sharedneu.neu.attest.azure.net' #this is a shared instance of MAA that you can use for testing\n",
    "#runtime data is data you want reflected in the attestation token, this is not used in a meaningful way in this demo. \n",
    "runtime_data = 'eyJrZXlzIjpbeyJlIjoiQVFBQiIsImtleV9vcHMiOlsiZW5jcnlwdCJdLCJraWQiOiJOdmhmdXEyY0NJT0FCOFhSNFhpOVByME5QXzlDZU16V1FHdFdfSEFMel93Iiwia3R5IjoiUlNBIiwibiI6InY5NjVTUm15cDh6Ykc1ZU5GdURDbW1pU2VhSHB1akcyYkNfa2VMU3V6dkRNTE8xV3lyVUp2ZWFhNWJ6TW9PMHBBNDZwWGttYnFIaXNvelZ6cGlORExDbzZkM3o0VHJHTWVGUGYyQVBJTXUtUlNyek41NnF2SFZ5SXI1Y2FXZkhXay1GTVJEd0FlZnlOWVJIa2RZWWtnbUZLNDRoaFVkdGxDQUtFdjVVUXBGWmp2aDRpSTlqVkJkR1lNeUJhS1FMaGpJNVdJaC1RRzZaYTVzU3VPQ0ZNbm11eXV2TjVEZmxwTEZ6NTk1U3MtRW9CSVktTmlsNmxDdHZjR2dSLUlialVZSEFPczVhamFtVHpnZU84a3gzVkNFOUhjeUtteVVac2l5aUY2SURScDJCcHkzTkhUakl6N3Rta3BUSHg3dEhuUnRsZkUyRlV2MEI2aV9RWWxfWkE1USJ9XX0='\n",
    "\n",
    "#extract the public key from the openid-configuration and create a JWKS object\n",
    "\n",
    "def rsa_public_key_from_pem(cert_pem):\n",
    "    cert = x509.load_pem_x509_certificate(cert_pem.encode(), default_backend())\n",
    "    return cert.public_key()\n",
    "\n",
    "response = requests.get(f\"https://{attestation_endpoint}/certs\")\n",
    "\n",
    "if response.status_code == 200:\n",
    "    cert_data = response.json()\n",
    "    keys = cert_data['keys']\n",
    "\n",
    "    # Step 2: Create a JWKS object\n",
    "    jwks = []\n",
    "\n",
    "    for key_data in keys:\n",
    "        x5c = key_data.get('x5c', [])\n",
    "        if x5c:\n",
    "            cert_pem = \"-----BEGIN CERTIFICATE-----\\n\" + x5c[0] + \"\\n-----END CERTIFICATE-----\"\n",
    "            public_key = rsa_public_key_from_pem(cert_pem)\n",
    "            jwks.append((key_data['kid'], public_key))\n",
    "\n",
    "    print(\"JWKS object created successfully.\")\n",
    "else:\n",
    "    print(\"Failed to retrieve the signing keys.\")"
   ]
  },
  {
   "attachments": {},
   "cell_type": "markdown",
   "metadata": {},
   "source": [
    "### Step 2 : Generate security policy for sum container \n",
    "\n",
    "We will use the confcom tooling to generate a security policy from the Azure Resource Manager template. We will further generate a SHA-256 hash of the security policy which will be used later in the demo to verify whether the container group is running the right configuration. \n",
    "\n",
    "Note : The \"ccePolicy\" attribute of the ARM template must be set to a null string \"\" for this step to work. The tooling requires user input to override the policy if already present and user input is not supported in the notebook. "
   ]
  },
  {
   "cell_type": "code",
   "execution_count": 11,
   "metadata": {},
   "outputs": [
    {
     "name": "stdout",
     "output_type": "stream",
     "text": [
      "hash of security policy:  b1191324a53c7e4db6bcbef8fc65a1d745a986aae416a622788e1fdf3b5f8ad4\n"
     ]
    }
   ],
   "source": [
    "# get the hash of the security policy\n",
    "with open(\"./cal_shap/template.json\", \"r\") as f:\n",
    "    # open the template and grab the cce policy\n",
    "    template = json.loads(f.read())\n",
    "    security_policy = template.get('resources')[0]['properties']['confidentialComputeProperties']['ccePolicy']\n",
    "    # decode the base64 encoded policy and hash it\n",
    "    sha256_hash_sum = sha256(base64.b64decode(security_policy)).hexdigest()\n",
    "    # print the hash\n",
    "    print(\"hash of security policy: \", sha256_hash_sum)\n"
   ]
  },
  {
   "attachments": {},
   "cell_type": "markdown",
   "metadata": {},
   "source": [
    "#### Step 3 : Check for successful deployment on Azure Portal and get attestation token\n",
    "In this step we will check for the successful deployment and get the attestation token verified by MAA. We will compare the contents of the \"x-ms-sevsnpvm-hostdata\" claim and check whether it matches the policy hash from step 3"
   ]
  },
  {
   "cell_type": "code",
   "execution_count": 12,
   "metadata": {},
   "outputs": [
    {
     "name": "stdout",
     "output_type": "stream",
     "text": [
      "Maa Response Status Code:  200\n",
      "Maa Response JSON:  {'result': '{\"token\":\"eyJhbGciOiJSUzI1NiIsImprdSI6Imh0dHBzOi8vc2hhcmVkbmV1Lm5ldS5hdHRlc3QuYXp1cmUubmV0L2NlcnRzIiwia2lkIjoiTWw1WXYzWFM5Z3RkRzRNamxBZWk0d2FDUUhKZFAyUmVnWklGMTJxOG5POD0iLCJ0eXAiOiJKV1QifQ.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.V_fnAsQQcUYH8hKVifTviPfzG5ctjL-txWBSF37qfFyBxEI-sATKJgXoOVhJwJBq4tvWV-vul27HErZfepm4M1JmdhFLtYXTtgtdbp_TWuiDIml0KA5z4GrD_NcA3sfFWPHheiaN4FDw7A5O6UoYhsywZC-Ge5NTbj5-1TfYfu8bXLfycKFDsgUcnyfMh92alaTxSBQ9wNm21ZOfQ2eFnhsciDFSvQXMMv2eqEfixo66B4_il6XxUFwkfN6__iSwbRCQ0ZpwFvcq7fX8PIf-47Xqa5E62jcpiYGcLvNlNuPUDjTcATYA768IuE42ovYdtwtyklBEjPnFzFnwj7xpCw\"}'}\n",
      "Valid JWT : Attestation token signature verified: {'exp': 1761829935, 'iat': 1761801135, 'iss': 'https://sharedneu.neu.attest.azure.net', 'jti': '5133b89284570f39767b19347229d16a6b245b521a00224d5ecb4622adc059ea', 'nbf': 1761801135, 'nonce': '13327562307222927066', 'x-ms-attestation-type': 'sevsnpvm', 'x-ms-compliance-status': 'azure-compliant-uvm', 'x-ms-policy-hash': '9NY0VnTQ-IiBriBplVUpFbczcDaEBUwsiFYAzHu_gco', 'x-ms-runtime': {'keys': [{'e': 'AQAB', 'key_ops': ['encrypt'], 'kid': 'Nvhfuq2cCIOAB8XR4Xi9Pr0NP_9CeMzWQGtW_HALz_w', 'kty': 'RSA', 'n': 'v965SRmyp8zbG5eNFuDCmmiSeaHpujG2bC_keLSuzvDMLO1WyrUJveaa5bzMoO0pA46pXkmbqHisozVzpiNDLCo6d3z4TrGMeFPf2APIMu-RSrzN56qvHVyIr5caWfHWk-FMRDwAefyNYRHkdYYkgmFK44hhUdtlCAKEv5UQpFZjvh4iI9jVBdGYMyBaKQLhjI5WIh-QG6Za5sSuOCFMnmuyuvN5DflpLFz595Ss-EoBIY-Nil6lCtvcGgR-IbjUYHAOs5ajamTzgeO8kx3VCE9HcyKmyUZsiyiF6IDRp2Bpy3NHTjIz7tmkpTHx7tHnRtlfE2FUv0B6i_QYl_ZA5Q'}]}, 'x-ms-sevsnpvm-authorkeydigest': '000000000000000000000000000000000000000000000000000000000000000000000000000000000000000000000000', 'x-ms-sevsnpvm-bootloader-svn': 4, 'x-ms-sevsnpvm-ciphertext-hiding-dram-enabled': False, 'x-ms-sevsnpvm-cxl-allowed': False, 'x-ms-sevsnpvm-familyId': '01000000000000000000000000000000', 'x-ms-sevsnpvm-guestsvn': 2, 'x-ms-sevsnpvm-hostdata': 'b1191324a53c7e4db6bcbef8fc65a1d745a986aae416a622788e1fdf3b5f8ad4', 'x-ms-sevsnpvm-idkeydigest': 'b5874f6d74ec184263d6d11af9c29d5824413c4adb303fbc210e5200b2c159be39c59907714b76c7b385ab225b7ad80f', 'x-ms-sevsnpvm-imageId': '02000000000000000000000000000000', 'x-ms-sevsnpvm-is-debuggable': False, 'x-ms-sevsnpvm-launchmeasurement': 'd0c9e2be22046e60779be88868cff64c2aa22047c15d3127ba495cee3fbc2854c5633f9da2096e6c64ae2b69bbff8082', 'x-ms-sevsnpvm-mem-aes256-xts-required': False, 'x-ms-sevsnpvm-microcode-svn': 219, 'x-ms-sevsnpvm-migration-allowed': False, 'x-ms-sevsnpvm-page-swap-disabled': False, 'x-ms-sevsnpvm-rapl-disabled': False, 'x-ms-sevsnpvm-reportdata': '7ab000a323b3c873f5b81bbe584e7c1a26bcf40dc27e00f8e0d144b1ed2d14f10000000000000000000000000000000000000000000000000000000000000000', 'x-ms-sevsnpvm-reportid': 'f2eab567bde5c47062af76394f2f061d959c95d77261ceafa15b18ee4cc570e4', 'x-ms-sevsnpvm-singlesocket': False, 'x-ms-sevsnpvm-smt-allowed': True, 'x-ms-sevsnpvm-snpfw-svn': 24, 'x-ms-sevsnpvm-tee-svn': 0, 'x-ms-sevsnpvm-uvm-endorsement': {'x-ms-sevsnpvm-guestsvn': '103', 'x-ms-sevsnpvm-guestsvn-int': 103, 'x-ms-sevsnpvm-launchmeasurement': 'd0c9e2be22046e60779be88868cff64c2aa22047c15d3127ba495cee3fbc2854c5633f9da2096e6c64ae2b69bbff8082'}, 'x-ms-sevsnpvm-uvm-endorsement-headers': {'feed': 'ContainerPlat-AMD-UVM', 'iss': 'did:x509:0:sha256:I__iuL25oXEVFdTP_aBLx_eT1RPHbCQ_ECBQfYZpt9s::eku:1.3.6.1.4.1.311.76.59.1.2'}, 'x-ms-sevsnpvm-vmpl': 0, 'x-ms-ver': '1.0'}\n",
      "SEV-SNP Host Data:\n",
      " b1191324a53c7e4db6bcbef8fc65a1d745a986aae416a622788e1fdf3b5f8ad4\n",
      "Security Policy Hash Matches\n",
      "Host is Trusted\n"
     ]
    }
   ],
   "source": [
    "\n",
    "# TODO: update the public_ip_address to the public ip address of your deployed container group. You can obtain the ip address from azure portal.  \n",
    "\n",
    "public_ip_address = '4.209.59.163'\n",
    "\n",
    "#runtime data is data you want reflected in the attestation token, this is not used in a meaningful way in this demo. \n",
    "runtime_data = 'eyJrZXlzIjpbeyJlIjoiQVFBQiIsImtleV9vcHMiOlsiZW5jcnlwdCJdLCJraWQiOiJOdmhmdXEyY0NJT0FCOFhSNFhpOVByME5QXzlDZU16V1FHdFdfSEFMel93Iiwia3R5IjoiUlNBIiwibiI6InY5NjVTUm15cDh6Ykc1ZU5GdURDbW1pU2VhSHB1akcyYkNfa2VMU3V6dkRNTE8xV3lyVUp2ZWFhNWJ6TW9PMHBBNDZwWGttYnFIaXNvelZ6cGlORExDbzZkM3o0VHJHTWVGUGYyQVBJTXUtUlNyek41NnF2SFZ5SXI1Y2FXZkhXay1GTVJEd0FlZnlOWVJIa2RZWWtnbUZLNDRoaFVkdGxDQUtFdjVVUXBGWmp2aDRpSTlqVkJkR1lNeUJhS1FMaGpJNVdJaC1RRzZaYTVzU3VPQ0ZNbm11eXV2TjVEZmxwTEZ6NTk1U3MtRW9CSVktTmlsNmxDdHZjR2dSLUlialVZSEFPczVhamFtVHpnZU84a3gzVkNFOUhjeUtteVVac2l5aUY2SURScDJCcHkzTkhUakl6N3Rta3BUSHg3dEhuUnRsZkUyRlV2MEI2aV9RWWxfWkE1USJ9XX0='\n",
    "\n",
    "# call the maa endpoint\n",
    "maa_response = requests.post(\n",
    "    f'http://{public_ip_address}/attest/maa',  \n",
    "    json={\"runtime_data\": runtime_data, \"maa_endpoint\": attestation_endpoint}\n",
    ")\n",
    "print(\"Maa Response Status Code: \", maa_response.status_code)\n",
    "\n",
    "# 1. Check for HTTP errors (e.g., 404, 500)\n",
    "try:\n",
    "    maa_response.raise_for_status() \n",
    "except requests.exceptions.HTTPError as e:\n",
    "    print(f\"Error: Request failed with HTTP status {maa_response.status_code}\")\n",
    "    print(\"Full Response Text:\", maa_response.text)\n",
    "    # Stop execution or return\n",
    "    # If the container group is down or the IP is wrong, this will catch it.\n",
    "    raise\n",
    "\n",
    "# 2. Check the response content for application-level errors\n",
    "try:\n",
    "    response_json = maa_response.json()\n",
    "except requests.exceptions.JSONDecodeError:\n",
    "    # If the response isn't even valid JSON, print the raw text and exit\n",
    "    print(\"Error: Received non-JSON response.\")\n",
    "    print(\"Raw Response Text:\", maa_response.text)\n",
    "    raise\n",
    "\n",
    "print(\"Maa Response JSON: \", response_json)\n",
    "\n",
    "# Check if the response contains an expected error message instead of the token\n",
    "result = response_json.get(\"result\")\n",
    "if result == '404 page not found' or 'error' in response_json or (isinstance(result, str) and 'error' in result.lower()):\n",
    "    print(f\"Error: Application-level error reported in response: {response_json}\")\n",
    "    # Stop execution or return\n",
    "    # This catches the specific '404 page not found' result you saw.\n",
    "    raise Exception(\"Application Attestation Error\") \n",
    "\n",
    "# If the `result` is a JSON string, it needs to be parsed (as intended by your original code)\n",
    "if isinstance(result, str):\n",
    "    try:\n",
    "        # Attempt to parse the `result` string, which should contain the actual token payload\n",
    "        parsed_result = json.loads(result)\n",
    "        token = parsed_result.get(\"token\")\n",
    "        if not token:\n",
    "            raise ValueError(\"Token not found in parsed result.\")\n",
    "    except (json.JSONDecodeError, ValueError) as e:\n",
    "        print(f\"Error: Failed to parse 'result' string into JSON or extract 'token'.\")\n",
    "        print(f\"Result string content: {result}\")\n",
    "        raise\n",
    "else:\n",
    "    # Handle the case where the token might be directly in the top-level JSON or another key\n",
    "    # (though your original code structure suggests a nested token within a 'result' string)\n",
    "    # For now, we'll assume the nested structure is correct, but this is a point to check.\n",
    "    print(\"Error: 'result' key was not a string as expected.\")\n",
    "    raise\n",
    "# verify the token\n",
    "\n",
    "header = jwt.get_unverified_header(token)\n",
    "kid = header['kid']\n",
    "\n",
    "# Find the key with a matching 'kid' in the JWKS\n",
    "key_to_use = None\n",
    "for key_kid, key in jwks:\n",
    "        if key_kid == kid:\n",
    "            key_to_use = key\n",
    "            break\n",
    "\n",
    "if key_to_use is not None:\n",
    "        try:\n",
    "            payload = jwt.decode(token, key=key_to_use, algorithms=[\"RS256\"])\n",
    "            print(\"Valid JWT : Attestation token signature verified:\", payload)\n",
    "            \n",
    "        except jwt.InvalidTokenError:\n",
    "            print(\"Invalid JWT\")\n",
    "else:\n",
    "        print(\"No matching key found in JWKS\")\n",
    "\n",
    "print(\"SEV-SNP Host Data:\\n\", payload.get(\"x-ms-sevsnpvm-hostdata\"))\n",
    "if(sha256_hash_sum == payload.get(\"x-ms-sevsnpvm-hostdata\")):\n",
    "    print(\"Security Policy Hash Matches\")\n",
    "    print(\"Host is Trusted\")\n",
    "else:\n",
    "    print(\"Security Policy Hash Does Not Match\")\n",
    "    print(\"Host is Not Trusted\")"
   ]
  },
  {
   "cell_type": "markdown",
   "metadata": {},
   "source": [
    "### Step 4 : Check for successful deployment on Azure Portal and get key release\n",
    "In this step we will check for the successful deployment and get the key verified by MAA."
   ]
  },
  {
   "cell_type": "code",
   "execution_count": 32,
   "metadata": {},
   "outputs": [
    {
     "name": "stdout",
     "output_type": "stream",
     "text": [
      "Key release Response Status Code:  200\n",
      "Maa Response JSON:  {'public_key_pem': '-----BEGIN PUBLIC KEY-----\\nMIIBIjANBgkqhkiG9w0BAQEFAAOCAQ8AMIIBCgKCAQEAwiIUA0ALmgb2L33MxIVq\\neYbgnnQn8CJ3w/b8HKjLOcG9upmQ3cZgkI+MEqxngeby58VoT79cbqo3t7c+gO3S\\nF1ByKWzmU3Mg8QqrPiX3NgOVx4Cxjc/HQw40eLvYFjstYRpYtD6wkpebR0gUEYRN\\nWeGMPe2Now6NUl11Dq6h+7+Wp2BX/DJy3YnHOgcL2Qebby4Qx5kp93UBeT/3tJ3m\\nm4gmzEetvA5OOhiNsH+s6ivue4qASIOXrC825bFM/D6sfhuNxnCL4lPEd0wfSVPD\\nNf+Vd1uvcJwUD7mqDLWAm6tA9/4XExq3VqU9ORLn2vfY4TLvK8SO78EKD/x/t5Cq\\nwwIDAQAB\\n-----END PUBLIC KEY-----\\n'}\n"
     ]
    }
   ],
   "source": [
    "public_ip_address = '20.107.164.222'\n",
    "maa_endpoint = 'sharedneu.neu.attest.azure.net'\n",
    "akv_endpoint = 'testvaultkhtn.vault.azure.net'\n",
    "kid = 'mykeyv19'\n",
    "\n",
    "# call the /key/release\n",
    "key_response = requests.post(\n",
    "    f'http://{public_ip_address}/key/release',  \n",
    "    json={\"maa_endpoint\": maa_endpoint, \"akv_endpoint\": akv_endpoint, \"kid\": kid}\n",
    ")\n",
    "print(\"Key release Response Status Code: \", key_response.status_code)\n",
    "\n",
    "# 1. Check for HTTP errors (e.g., 404, 500)\n",
    "try:\n",
    "    key_response.raise_for_status() \n",
    "except requests.exceptions.HTTPError as e:\n",
    "    print(f\"Error: Request failed with HTTP status {key_response.status_code}\")\n",
    "    print(\"Full Response Text:\", key_response.text)\n",
    "    # Stop execution or return\n",
    "    # If the container group is down or the IP is wrong, this will catch it.\n",
    "    raise\n",
    "\n",
    "# 2. Check the response content for application-level errors\n",
    "try:\n",
    "    response_json = key_response.json()\n",
    "except requests.exceptions.JSONDecodeError:\n",
    "    # If the response isn't even valid JSON, print the raw text and exit\n",
    "    print(\"Error: Received non-JSON response.\")\n",
    "    print(\"Raw Response Text:\", key_response.text)\n",
    "    raise\n",
    "\n",
    "print(\"Maa Response JSON: \", response_json)"
   ]
  },
  {
   "cell_type": "code",
   "execution_count": 36,
   "metadata": {},
   "outputs": [
    {
     "name": "stdout",
     "output_type": "stream",
     "text": [
      "Status Code: 200\n",
      "Item Data: {'description': 'Wireless optical mouse', 'id': 2, 'name': 'Mouse'}\n"
     ]
    }
   ],
   "source": [
    "# The base URL of your running Flask API\n",
    "public_ip_address = \"20.107.164.222\"\n",
    "\n",
    "# The item ID you want to get\n",
    "item_id = 2\n",
    "\n",
    "# Perform a GET request to /items/<item_id>\n",
    "response = requests.get(f\"http://{public_ip_address}/items/{item_id}\")\n",
    "\n",
    "# Check the status code\n",
    "print(\"Status Code:\", response.status_code)\n",
    "\n",
    "# Parse JSON response\n",
    "if response.ok:\n",
    "    item_data = response.json()\n",
    "    print(\"Item Data:\", item_data)\n",
    "else:\n",
    "    print(\"Error:\", response.text)"
   ]
  },
  {
   "cell_type": "code",
   "execution_count": 37,
   "metadata": {},
   "outputs": [
    {
     "name": "stdout",
     "output_type": "stream",
     "text": [
      "Generated symmetric key: EilZRpz21M6uXtkIsI4n/gHeuEXv9deX9S0ajBxJd/w=\n",
      "\n",
      "Encrypted symmetric key (base64):\n",
      "aNFLSyGdovrX31qChpbmha+3LeI3YbASonD9gVo7s+3m8a4kfaN7/kuJRudxBgSoAz95gBKzHQOJcjyKCEJl3wVN12JO4ZzI062fdRrUg6ImDLGVKn+bt2wECMshsVOcIusa3jmfK143taYd40W8xlDDQz87E/lqRf8FtJulb5aGyvhPJHcwaGknY9bnvjOqmS/6jOzlea5dtgCLDauCalOaLwPqTk2RQcoeTK7L+OQlfeM3vC6CfFseXU5iIxDldwOZ3YfDMHnhQGmb5Sf+K6UwV7nkxjqMW/dUyZeGQD6Xx30/RHx+VXs/sjDurd0fUHqzKZieXHIKE06C4TDHYg==\n"
     ]
    }
   ],
   "source": [
    "from cryptography.hazmat.primitives import serialization, hashes\n",
    "from cryptography.hazmat.primitives.asymmetric import padding\n",
    "from cryptography.hazmat.backends import default_backend\n",
    "import os\n",
    "import base64\n",
    "\n",
    "# Extract the PEM string and convert to bytes\n",
    "public_key_pem = response_json[\"public_key_pem\"].encode(\"utf-8\")\n",
    "\n",
    "# Parse the PEM into a cryptography public key object\n",
    "public_key = serialization.load_pem_public_key(public_key_pem, backend=default_backend())\n",
    "\n",
    "# Generate a random 256-bit (32-byte) symmetric key (e.g., for AES-256)\n",
    "symmetric_key = os.urandom(32)\n",
    "print(\"Generated symmetric key:\", base64.b64encode(symmetric_key).decode())\n",
    "\n",
    "# Encrypt the symmetric key with the RSA public key (using OAEP padding)\n",
    "encrypted_key = public_key.encrypt(\n",
    "    symmetric_key,\n",
    "    padding.OAEP(\n",
    "        mgf=padding.MGF1(algorithm=hashes.SHA256()),\n",
    "        algorithm=hashes.SHA256(),\n",
    "        label=None\n",
    "    )\n",
    ")\n",
    "\n",
    "# Encode the result in base64 (so you can send/store it easily)\n",
    "encrypted_key_b64 = base64.b64encode(encrypted_key).decode()\n",
    "\n",
    "print(\"\\nEncrypted symmetric key (base64):\")\n",
    "print(encrypted_key_b64)"
   ]
  },
  {
   "cell_type": "code",
   "execution_count": 35,
   "metadata": {},
   "outputs": [
    {
     "name": "stdout",
     "output_type": "stream",
     "text": [
      "Status code: 200\n",
      "{\n",
      "  \"symmetric_key_b64\": \"WftrHxAft/0aAe4n0pARVyCnqJ1x1jx4VGzNikgL3lA=\"\n",
      "}\n"
     ]
    }
   ],
   "source": [
    "url = f\"http://{public_ip_address}/decrypt_key\"\n",
    "payload = {\n",
    "    \"encrypted_key_b64\": encrypted_key_b64\n",
    "}\n",
    "\n",
    "headers = {\"Content-Type\": \"application/json\"}\n",
    "\n",
    "response = requests.post(url, json=payload, headers=headers)\n",
    "print(\"Status code:\", response.status_code)\n",
    "\n",
    "# Pretty-print JSON result\n",
    "print(json.dumps(response.json(), indent=2))"
   ]
  },
  {
   "cell_type": "code",
   "execution_count": null,
   "metadata": {},
   "outputs": [],
   "source": []
  }
 ],
 "metadata": {
  "kernelspec": {
   "display_name": "Python 3 (ipykernel)",
   "language": "python",
   "name": "python3"
  },
  "language_info": {
   "codemirror_mode": {
    "name": "ipython",
    "version": 3
   },
   "file_extension": ".py",
   "mimetype": "text/x-python",
   "name": "python",
   "nbconvert_exporter": "python",
   "pygments_lexer": "ipython3",
   "version": "3.13.9"
  }
 },
 "nbformat": 4,
 "nbformat_minor": 4
}
